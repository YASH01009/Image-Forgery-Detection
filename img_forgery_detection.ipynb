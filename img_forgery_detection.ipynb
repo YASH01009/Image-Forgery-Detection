{
  "nbformat": 4,
  "nbformat_minor": 0,
  "metadata": {
    "colab": {
      "name": "img_forgery_detection",
      "provenance": [],
      "authorship_tag": "ABX9TyNsOxBNfpIoZadybh7d7FX1",
      "include_colab_link": true
    },
    "kernelspec": {
      "name": "python3",
      "display_name": "Python 3"
    },
    "accelerator": "GPU"
  },
  "cells": [
    {
      "cell_type": "markdown",
      "metadata": {
        "id": "view-in-github",
        "colab_type": "text"
      },
      "source": [
        "<a href=\"https://colab.research.google.com/github/YASH01009/Image-Forgery-Detection/blob/master/img_forgery_detection.ipynb\" target=\"_parent\"><img src=\"https://colab.research.google.com/assets/colab-badge.svg\" alt=\"Open In Colab\"/></a>"
      ]
    },
    {
      "cell_type": "code",
      "metadata": {
        "id": "51T6OId5kFsE",
        "colab_type": "code",
        "outputId": "1dad3f4b-f5ec-46ac-da16-304f4277fa89",
        "colab": {
          "base_uri": "https://localhost:8080/",
          "height": 34
        }
      },
      "source": [
        "from google.colab import drive\n",
        "drive.mount('/content/drive')"
      ],
      "execution_count": 0,
      "outputs": [
        {
          "output_type": "stream",
          "text": [
            "Drive already mounted at /content/drive; to attempt to forcibly remount, call drive.mount(\"/content/drive\", force_remount=True).\n"
          ],
          "name": "stdout"
        }
      ]
    },
    {
      "cell_type": "code",
      "metadata": {
        "id": "d87YZjqdk-NZ",
        "colab_type": "code",
        "outputId": "cf7e19ed-45b4-47a7-f516-9e3abf2a8c45",
        "colab": {
          "base_uri": "https://localhost:8080/",
          "height": 34
        }
      },
      "source": [
        "import cv2\n",
        "\n",
        "im1_m = cv2.imread('/content/drive/My Drive/ImageForgery/im1_t_mask.bmp')\n",
        "im1_m.shape"
      ],
      "execution_count": 0,
      "outputs": [
        {
          "output_type": "execute_result",
          "data": {
            "text/plain": [
              "(768, 1024, 3)"
            ]
          },
          "metadata": {
            "tags": []
          },
          "execution_count": 45
        }
      ]
    },
    {
      "cell_type": "code",
      "metadata": {
        "id": "kVIWKNDinRnT",
        "colab_type": "code",
        "colab": {}
      },
      "source": [
        "from google.colab.patches import cv2_imshow"
      ],
      "execution_count": 0,
      "outputs": []
    },
    {
      "cell_type": "code",
      "metadata": {
        "id": "42NRH0cEmOhr",
        "colab_type": "code",
        "colab": {}
      },
      "source": [
        "b = im1_m.copy()\n",
        "# set green and red channels to 0\n",
        "b[:, :, 1] = 0\n",
        "b[:, :, 2] = 0\n",
        "\n",
        "g = im1_m.copy()\n",
        "# set blue and red channels to 0\n",
        "g[:, :, 0] = 0\n",
        "g[:, :, 2] = 0\n",
        "\n",
        "r = im1_m.copy()\n",
        "# set blue and green channels to 0\n",
        "r[:, :, 0] = 0\n",
        "r[:, :, 1] = 0\n",
        "\n",
        "\n",
        "# RGB - Blue\n",
        "cv2_imshow(b)\n",
        "\n",
        "# RGB - Green\n",
        "cv2_imshow(g)\n",
        "\n",
        "# RGB - Red\n",
        "cv2_imshow(r)\n",
        "\n",
        "cv2.waitKey(0)"
      ],
      "execution_count": 0,
      "outputs": []
    },
    {
      "cell_type": "code",
      "metadata": {
        "id": "7l932TYKn0X5",
        "colab_type": "code",
        "colab": {}
      },
      "source": [
        "cv2_imshow(im1_m)"
      ],
      "execution_count": 0,
      "outputs": []
    },
    {
      "cell_type": "code",
      "metadata": {
        "id": "lqLcBffWoNvb",
        "colab_type": "code",
        "colab": {}
      },
      "source": [
        "im1_bm = cv2.cvtColor(im1_m, cv2.COLOR_BGR2GRAY)\n",
        "(thresh, im1_bm) = cv2.threshold(im1_bm, 127, 255, cv2.THRESH_BINARY)\n",
        "cv2_imshow(im1_bm)\n",
        "im1_bm.shape"
      ],
      "execution_count": 0,
      "outputs": []
    },
    {
      "cell_type": "code",
      "metadata": {
        "id": "pohQ0V4MpWfs",
        "colab_type": "code",
        "colab": {}
      },
      "source": [
        "# Find contours:\n",
        "contours, hierarchy = cv2.findContours(im1_bm,cv2.RETR_EXTERNAL,cv2.CHAIN_APPROX_NONE)\n",
        "\n",
        "# Draw contours:\n",
        "cv2.drawContours(im1_m, contours, 1, (0, 255, 0), 16)\n",
        "\n",
        "# Calculate image moments of the detected contour\n",
        "M = cv2.moments(contours[0])\n",
        "\n",
        "# Show image:\n",
        "cv2_imshow(im1_bm)"
      ],
      "execution_count": 0,
      "outputs": []
    },
    {
      "cell_type": "code",
      "metadata": {
        "id": "vUBJ8plgQBsj",
        "colab_type": "code",
        "colab": {}
      },
      "source": [
        "import numpy as np\n",
        "\n",
        "im1_b = np.zeros(shape=[768, 1024], dtype=np.uint8)\n",
        "cv2.drawContours(im1_b, contours, 1, 255, 16)\n",
        "\n",
        "cv2_imshow(im1_b)"
      ],
      "execution_count": 0,
      "outputs": []
    },
    {
      "cell_type": "code",
      "metadata": {
        "id": "UwMpBOqUrakE",
        "colab_type": "code",
        "colab": {}
      },
      "source": [
        "import fnmatch, os\n",
        "\n",
        "def getData():\n",
        "  path = '/content/drive/My Drive/ImageForgery/dataset/dataset/Dataset 0/'\n",
        "  images_f = {}\n",
        "  images_m = {}\n",
        "  for img in os.listdir(path):\n",
        "    if fnmatch.fnmatch(img, 'im*_t.bmp'):\n",
        "      images_f[int(img[2]) if not img[3].isdigit() else int(img[2])*10 + int(img[3])] = (cv2.imread(path + img))\n",
        "  for img in os.listdir(path):\n",
        "    if fnmatch.fnmatch(img, 'im*_t_mask.bmp'):\n",
        "      images_m[int(img[2]) if not img[3].isdigit() else int(img[2])*10 + int(img[3])] = (cv2.imread(path + img))\n",
        "  return (images_f, images_m)\n",
        "\n",
        "img_f, img_m = getData()"
      ],
      "execution_count": 0,
      "outputs": []
    },
    {
      "cell_type": "code",
      "metadata": {
        "id": "jWFBQOViteB2",
        "colab_type": "code",
        "colab": {}
      },
      "source": [
        "def images():\n",
        "  path = '/content/drive/My Drive/ImageForgery/dataset/dataset/Dataset 3/'\n",
        "  images_r = {}\n",
        "  for img in os.listdir(path):\n",
        "    if fnmatch.fnmatch(img, 'im*.bmp'):\n",
        "      images_r[int(img[2]) if not img[3].isdigit() else int(img[2])*10 + int(img[3])] = (cv2.imread(path + img))\n",
        "  return images_r\n",
        "\n",
        "img_r = images()"
      ],
      "execution_count": 0,
      "outputs": []
    },
    {
      "cell_type": "code",
      "metadata": {
        "id": "SdfTQddzYOP_",
        "colab_type": "code",
        "colab": {}
      },
      "source": [
        "# for i in range(1,51):\n",
        "#   cv2_imshow(img_f[i])\n",
        "#   cv2_imshow(img_m[i])"
      ],
      "execution_count": 0,
      "outputs": []
    },
    {
      "cell_type": "code",
      "metadata": {
        "id": "AX0E_e6L780g",
        "colab_type": "code",
        "colab": {}
      },
      "source": [
        "num = {1: 1,\n",
        " 2: 1,\n",
        " 3: 0,\n",
        " 4: 1,\n",
        " 5: 0,\n",
        " 6: 1,\n",
        " 7: 1,\n",
        " 8: 0,\n",
        " 9: 0,\n",
        " 10: 0,\n",
        " 11: 0,\n",
        " 12: 0,\n",
        " 13: 1,\n",
        " 14: 0,\n",
        " 15: 1,\n",
        " 16: 0,\n",
        " 17: 0,\n",
        " 18: 1,\n",
        " 19: 0,\n",
        " 20: 0,\n",
        " 21: 0,\n",
        " 22: 1,\n",
        " 23: 0,\n",
        " 24: 1,\n",
        " 25: 1,\n",
        " 26: 1,\n",
        " 27: 0,\n",
        " 28: 0,\n",
        " 29: 0,\n",
        " 30: 0,\n",
        " 31: 1,\n",
        " 32: 1,\n",
        " 33: 1,\n",
        " 34: 0,\n",
        " 35: 1,\n",
        " 36: 1,\n",
        " 37: 0,\n",
        " 38: 0,\n",
        " 39: 1,\n",
        " 40: 1,\n",
        " 41: 1,\n",
        " 42: 0,\n",
        " 43: 0,\n",
        " 44: 0,\n",
        " 45: 0,\n",
        " 46: 0,\n",
        " 47: 0,\n",
        " 48: 0,\n",
        " 49: 0,\n",
        " 50: 0}"
      ],
      "execution_count": 0,
      "outputs": []
    },
    {
      "cell_type": "code",
      "metadata": {
        "id": "X3L9ptTxcdSb",
        "colab_type": "code",
        "colab": {}
      },
      "source": [
        "import numpy as np\n",
        "\n",
        "def boundary(mask,num):\n",
        "  print(mask.shape)\n",
        "  gray_image = cv2.cvtColor(mask, cv2.COLOR_BGR2GRAY)\n",
        "  thresh, gray_image = cv2.threshold(gray_image, 127, 255, cv2.THRESH_BINARY)\n",
        "  contours, hierarchy = cv2.findContours(gray_image,cv2.RETR_EXTERNAL,cv2.CHAIN_APPROX_NONE)\n",
        "  bound = np.zeros(shape=[768, 1024], dtype=np.uint8)\n",
        "  cv2.drawContours(bound, contours, num, 255, 16)\n",
        "  cv2_imshow(bound)\n",
        "  return bound\n",
        "\n",
        "img_b = {}\n",
        "for i in range(1,51):\n",
        "  img_b[i] = boundary(img_m[i],num[i])"
      ],
      "execution_count": 0,
      "outputs": []
    },
    {
      "cell_type": "code",
      "metadata": {
        "id": "XdAUQTkD75Z0",
        "colab_type": "code",
        "colab": {}
      },
      "source": [
        "add_r = {8 : img_r[8], 22 : img_r[22], 43 : img_r[43], 45 : img_r[45]}\n",
        "add_m = {8 : img_m[8], 22 : img_m[22], 43 : img_m[43], 45 : img_m[45]}\n",
        "add_b = {8 : img_b[8], 22 : img_b[22], 43 : img_b[43], 45 : img_b[45]}\n",
        "add_f = {8 : img_f[8], 22 : img_f[22], 43 : img_f[43], 45 : img_f[45]}\n",
        "\n",
        "for i in [8,22,43,45]:\n",
        "  del img_r[i]\n",
        "  del img_m[i]\n",
        "  del img_b[i]\n",
        "  del img_f[i]"
      ],
      "execution_count": 0,
      "outputs": []
    },
    {
      "cell_type": "code",
      "metadata": {
        "id": "Cz1_TS2i4xEf",
        "colab_type": "code",
        "colab": {}
      },
      "source": [
        "# import pickle\n",
        "# from google.colab import files\n",
        "\n",
        "# with open('num.pickle', 'wb') as handle:\n",
        "#   pickle.dump(num, handle, protocol=pickle.HIGHEST_PROTOCOL)\n",
        "\n",
        "# files.download('num.pickle')"
      ],
      "execution_count": 0,
      "outputs": []
    },
    {
      "cell_type": "code",
      "metadata": {
        "id": "e7kADUhb-1rl",
        "colab_type": "code",
        "colab": {}
      },
      "source": [
        "from keras.models import Sequential\n",
        "from keras.layers import Conv2D, MaxPooling2D\n",
        "from keras.layers import Activation, Dropout, Flatten, Dense\n",
        "\n",
        "model = Sequential()\n",
        "model.add(Conv2D(64, (3, 3), padding='same', input_shape=(768, 1024, 3)))\n",
        "# model.add(MaxPooling2D(pool_size=(2, 2), padding='same'))\n",
        "\n",
        "model.add(Conv2D(128, (3, 3), padding='same'))\n",
        "# model.add(MaxPooling2D(pool_size=(2, 2), padding='same'))\n",
        "\n",
        "model.add(Conv2D(256, (3, 3), padding='same'))\n",
        "# model.add(MaxPooling2D(pool_size=(2, 2), padding='same'))\n",
        "\n",
        "model.add(Conv2D(1, (1, 1), padding='same'))\n",
        "\n",
        "model.compile(optimizer='rmsprop',\n",
        "              loss='mse')"
      ],
      "execution_count": 0,
      "outputs": []
    },
    {
      "cell_type": "code",
      "metadata": {
        "id": "v99Drwv7fbaJ",
        "colab_type": "code",
        "colab": {}
      },
      "source": [
        "for i in img_f.keys():\n",
        "  print(str(i) + ' : ' + str(img_f[i].shape) + ' - ' + str(img_b[i].shape))"
      ],
      "execution_count": 0,
      "outputs": []
    },
    {
      "cell_type": "code",
      "metadata": {
        "id": "jD-OKP5MjOfJ",
        "colab_type": "code",
        "colab": {}
      },
      "source": [
        "dim = (1024,768)\n",
        "for i in img_f.keys():\n",
        "  img_f[i] = cv2.resize(img_f[i], dim, interpolation = cv2.INTER_AREA)\n",
        "  img_b[i] = img_b[i].reshape(768,1024,1)"
      ],
      "execution_count": 0,
      "outputs": []
    },
    {
      "cell_type": "code",
      "metadata": {
        "id": "2TtsmRcIlVK_",
        "colab_type": "code",
        "colab": {}
      },
      "source": [
        "for i in img_f.keys():\n",
        "  print(str(i) + ' : ' + str(img_f[i].shape) + ' - ' + str(img_b[i].shape))"
      ],
      "execution_count": 0,
      "outputs": []
    },
    {
      "cell_type": "code",
      "metadata": {
        "id": "SoATJJLnlmgx",
        "colab_type": "code",
        "outputId": "4f8af277-65d3-4186-a464-54e047378ca2",
        "colab": {
          "base_uri": "https://localhost:8080/",
          "height": 34
        }
      },
      "source": [
        "x = np.array([img_f[i] for i in img_f.keys()])\n",
        "y = np.array([img_b[i] for i in img_b.keys()])\n",
        "print(x.shape, y.shape)"
      ],
      "execution_count": 0,
      "outputs": [
        {
          "output_type": "stream",
          "text": [
            "(46, 768, 1024, 3) (46, 768, 1024, 1)\n"
          ],
          "name": "stdout"
        }
      ]
    },
    {
      "cell_type": "code",
      "metadata": {
        "id": "gpA6NxtjpjN7",
        "colab_type": "code",
        "colab": {}
      },
      "source": [
        "import tensorflow as tf\n",
        "\n",
        "gpu_options = tf.GPUOptions(allow_growth=True)\n",
        "session = tf.Session(config=tf.ConfigProto(gpu_options=gpu_options))"
      ],
      "execution_count": 0,
      "outputs": []
    },
    {
      "cell_type": "code",
      "metadata": {
        "id": "0FfKGPvhYjws",
        "colab_type": "code",
        "colab": {}
      },
      "source": [
        "model.fit(x,y,batch_size=10,epochs=10)"
      ],
      "execution_count": 0,
      "outputs": []
    },
    {
      "cell_type": "code",
      "metadata": {
        "id": "PfL4LJm1UPJ0",
        "colab_type": "code",
        "colab": {}
      },
      "source": [
        "# from keras.preprocessing.image import ImageDataGenerator\n",
        "\n",
        "# train_datagen = ImageDataGenerator(rescale=1./255)\n",
        "# batch_size = 16\n",
        "# train_datagen.fit(list(img_f.values()))"
      ],
      "execution_count": 0,
      "outputs": []
    },
    {
      "cell_type": "code",
      "metadata": {
        "id": "vQq1Afm3EmC3",
        "colab_type": "code",
        "colab": {}
      },
      "source": [
        "# model.fit(img_f,img_b)"
      ],
      "execution_count": 0,
      "outputs": []
    }
  ]
}